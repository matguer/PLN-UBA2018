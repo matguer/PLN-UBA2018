{
 "cells": [
  {
   "cell_type": "code",
   "execution_count": 4,
   "metadata": {},
   "outputs": [],
   "source": [
    "import pandas as pd\n",
    "import matplotlib.pyplot as plt"
   ]
  },
  {
   "cell_type": "code",
   "execution_count": 70,
   "metadata": {},
   "outputs": [],
   "source": [
    "def generar_graficos_curvas():\n",
    "    for improvement in ['default'] + ['improvement' + str(i) for i in range(1,5)]:\n",
    "        for clf in ['maxent', 'mnb', 'svm']:\n",
    "            df = pd.read_csv(improvement + '/curve_' + clf + '.csv', names=['Accuracy', 'F1'], skiprows=1)\n",
    "            ax = df.plot(title='Improvement: ' + improvement + ' - Classifier: ' + clf, grid=True)\n",
    "            ax.set_xlabel('N')\n",
    "            ax.set_ylabel('%')\n",
    "            plt.savefig(improvement + '/' + clf + '.png', format='png')"
   ]
  },
  {
   "cell_type": "code",
   "execution_count": 78,
   "metadata": {},
   "outputs": [],
   "source": [
    "def generar_informe():\n",
    "    with open('../README.md', 'w') as f_informe:\n",
    "\n",
    "        for improvement in ['default'] + ['improvement' + str(i) for i in range(1,5)]:\n",
    "            print('## ' + improvement.upper(), file=f_informe)\n",
    "            for clf in ['maxent', 'mnb', 'svm']:\n",
    "                with open(improvement + '/eval_' + clf + '.md') as f_clf:\n",
    "                    print('### ' + clf.upper(), file=f_informe)\n",
    "                    print('##### Eval', file=f_informe)\n",
    "                    f_informe.write(f_clf.read())\n",
    "                    print('', file=f_informe)\n",
    "                    print('##### Curve', file=f_informe)\n",
    "                    print('![](results/' + improvement + '/' + clf + '.png)', file=f_informe)\n",
    "                    print('', file=f_informe)\n",
    "                    print('', file=f_informe)\n",
    "            print('', file=f_informe)\n",
    "            print('', file=f_informe)"
   ]
  },
  {
   "cell_type": "code",
   "execution_count": 79,
   "metadata": {},
   "outputs": [],
   "source": [
    "#generar_graficos_curvas()\n",
    "generar_informe()"
   ]
  }
 ],
 "metadata": {
  "kernelspec": {
   "display_name": "Python 3",
   "language": "python",
   "name": "python3"
  },
  "language_info": {
   "codemirror_mode": {
    "name": "ipython",
    "version": 3
   },
   "file_extension": ".py",
   "mimetype": "text/x-python",
   "name": "python",
   "nbconvert_exporter": "python",
   "pygments_lexer": "ipython3",
   "version": "3.6.1"
  }
 },
 "nbformat": 4,
 "nbformat_minor": 2
}
